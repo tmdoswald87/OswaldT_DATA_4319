{
 "cells": [
  {
   "cell_type": "markdown",
   "metadata": {},
   "source": [
    "# Perceptron in R\n",
    "\n",
    "### By Thomas Oswald\n",
    "### Spring 2020"
   ]
  },
  {
   "cell_type": "code",
   "execution_count": 1,
   "metadata": {},
   "outputs": [
    {
     "data": {
      "text/html": [
       "<table>\n",
       "<thead><tr><th scope=col>SepalLength</th><th scope=col>SepalWidth</th><th scope=col>PetalLength</th><th scope=col>PetalWidth</th><th scope=col>Species</th></tr></thead>\n",
       "<tbody>\n",
       "\t<tr><td>5.1   </td><td>3.5   </td><td>1.4   </td><td>0.2   </td><td>setosa</td></tr>\n",
       "\t<tr><td>4.9   </td><td>3.0   </td><td>1.4   </td><td>0.2   </td><td>setosa</td></tr>\n",
       "\t<tr><td>4.7   </td><td>3.2   </td><td>1.3   </td><td>0.2   </td><td>setosa</td></tr>\n",
       "\t<tr><td>4.6   </td><td>3.1   </td><td>1.5   </td><td>0.2   </td><td>setosa</td></tr>\n",
       "\t<tr><td>5.0   </td><td>3.6   </td><td>1.4   </td><td>0.2   </td><td>setosa</td></tr>\n",
       "\t<tr><td>5.4   </td><td>3.9   </td><td>1.7   </td><td>0.4   </td><td>setosa</td></tr>\n",
       "</tbody>\n",
       "</table>\n"
      ],
      "text/latex": [
       "\\begin{tabular}{r|lllll}\n",
       " SepalLength & SepalWidth & PetalLength & PetalWidth & Species\\\\\n",
       "\\hline\n",
       "\t 5.1    & 3.5    & 1.4    & 0.2    & setosa\\\\\n",
       "\t 4.9    & 3.0    & 1.4    & 0.2    & setosa\\\\\n",
       "\t 4.7    & 3.2    & 1.3    & 0.2    & setosa\\\\\n",
       "\t 4.6    & 3.1    & 1.5    & 0.2    & setosa\\\\\n",
       "\t 5.0    & 3.6    & 1.4    & 0.2    & setosa\\\\\n",
       "\t 5.4    & 3.9    & 1.7    & 0.4    & setosa\\\\\n",
       "\\end{tabular}\n"
      ],
      "text/markdown": [
       "\n",
       "SepalLength | SepalWidth | PetalLength | PetalWidth | Species | \n",
       "|---|---|---|---|---|---|\n",
       "| 5.1    | 3.5    | 1.4    | 0.2    | setosa | \n",
       "| 4.9    | 3.0    | 1.4    | 0.2    | setosa | \n",
       "| 4.7    | 3.2    | 1.3    | 0.2    | setosa | \n",
       "| 4.6    | 3.1    | 1.5    | 0.2    | setosa | \n",
       "| 5.0    | 3.6    | 1.4    | 0.2    | setosa | \n",
       "| 5.4    | 3.9    | 1.7    | 0.4    | setosa | \n",
       "\n",
       "\n"
      ],
      "text/plain": [
       "  SepalLength SepalWidth PetalLength PetalWidth Species\n",
       "1 5.1         3.5        1.4         0.2        setosa \n",
       "2 4.9         3.0        1.4         0.2        setosa \n",
       "3 4.7         3.2        1.3         0.2        setosa \n",
       "4 4.6         3.1        1.5         0.2        setosa \n",
       "5 5.0         3.6        1.4         0.2        setosa \n",
       "6 5.4         3.9        1.7         0.4        setosa "
      ]
     },
     "metadata": {},
     "output_type": "display_data"
    }
   ],
   "source": [
    "# Read Iris CSV\n",
    "data_csv <- read.csv(\"iris_data.csv\")\n",
    "\n",
    "# limit the dataset so that it only contains measurements from Setosa and Versicolor\n",
    "data_csv <- data_csv[1:100,]\n",
    "head(data_csv)"
   ]
  },
  {
   "cell_type": "code",
   "execution_count": 2,
   "metadata": {},
   "outputs": [
    {
     "data": {
      "text/html": [
       "<table>\n",
       "<thead><tr><th scope=col>SepalWidth</th><th scope=col>PetalLength</th><th scope=col>Species</th></tr></thead>\n",
       "<tbody>\n",
       "\t<tr><td>3.5   </td><td>1.4   </td><td>setosa</td></tr>\n",
       "\t<tr><td>3.0   </td><td>1.4   </td><td>setosa</td></tr>\n",
       "\t<tr><td>3.2   </td><td>1.3   </td><td>setosa</td></tr>\n",
       "\t<tr><td>3.1   </td><td>1.5   </td><td>setosa</td></tr>\n",
       "\t<tr><td>3.6   </td><td>1.4   </td><td>setosa</td></tr>\n",
       "\t<tr><td>3.9   </td><td>1.7   </td><td>setosa</td></tr>\n",
       "</tbody>\n",
       "</table>\n"
      ],
      "text/latex": [
       "\\begin{tabular}{r|lll}\n",
       " SepalWidth & PetalLength & Species\\\\\n",
       "\\hline\n",
       "\t 3.5    & 1.4    & setosa\\\\\n",
       "\t 3.0    & 1.4    & setosa\\\\\n",
       "\t 3.2    & 1.3    & setosa\\\\\n",
       "\t 3.1    & 1.5    & setosa\\\\\n",
       "\t 3.6    & 1.4    & setosa\\\\\n",
       "\t 3.9    & 1.7    & setosa\\\\\n",
       "\\end{tabular}\n"
      ],
      "text/markdown": [
       "\n",
       "SepalWidth | PetalLength | Species | \n",
       "|---|---|---|---|---|---|\n",
       "| 3.5    | 1.4    | setosa | \n",
       "| 3.0    | 1.4    | setosa | \n",
       "| 3.2    | 1.3    | setosa | \n",
       "| 3.1    | 1.5    | setosa | \n",
       "| 3.6    | 1.4    | setosa | \n",
       "| 3.9    | 1.7    | setosa | \n",
       "\n",
       "\n"
      ],
      "text/plain": [
       "  SepalWidth PetalLength Species\n",
       "1 3.5        1.4         setosa \n",
       "2 3.0        1.4         setosa \n",
       "3 3.2        1.3         setosa \n",
       "4 3.1        1.5         setosa \n",
       "5 3.6        1.4         setosa \n",
       "6 3.9        1.7         setosa "
      ]
     },
     "metadata": {},
     "output_type": "display_data"
    }
   ],
   "source": [
    "# Create a subset dataset with only Sepal Width and Petal Length\n",
    "data <- data_csv[, c(2,3,5)]\n",
    "head(data)"
   ]
  },
  {
   "cell_type": "code",
   "execution_count": 3,
   "metadata": {},
   "outputs": [
    {
     "data": {
      "image/png": "[encoded data removed]",
      "text/plain": [
       "Plot with title \"Sepal Width and Petal Length\""
      ]
     },
     "metadata": {},
     "output_type": "display_data"
    }
   ],
   "source": [
    "# first we plot the data\n",
    "plot(PetalLength ~ SepalWidth,\n",
    "     data = data,\n",
    "     main = \"Sepal Width and Petal Length\",\n",
    "     type = 'n')\n",
    "\n",
    "# This will assign a specific color for Setosa species\n",
    "points(PetalLength ~ SepalWidth,\n",
    "      data = data,\n",
    "      subset = Species == \"setosa\",\n",
    "      col = \"red\",\n",
    "      pch = 20)\n",
    "\n",
    "# This will assign a specific color for versicolor species\n",
    "points(PetalLength ~ SepalWidth,\n",
    "      data = data,\n",
    "      subset = Species == \"versicolor\",\n",
    "      col = \"blue\",\n",
    "      pch = 20)\n",
    "\n",
    "\n",
    "legend(\"topright\", c(\"Setosa\",\"Versicolor\"), fill = c(\"red\",\"blue\"))"
   ]
  },
  {
   "cell_type": "markdown",
   "metadata": {},
   "source": [
    "Now we subset the data"
   ]
  },
  {
   "cell_type": "code",
   "execution_count": 4,
   "metadata": {},
   "outputs": [],
   "source": [
    "X1 <- data[,1]                         # first column of measurements\n",
    "X2 <- data[,2]                         # second column of measurements\n",
    "Y <- c()\n",
    "for (i in 1:100){\n",
    "    if (data[,3][i] == \"setosa\")       # Setosa == 1. Versicolor == -1\n",
    "        Y[i] <- 1\n",
    "    else\n",
    "        Y[i] <- -1\n",
    "}"
   ]
  },
  {
   "cell_type": "markdown",
   "metadata": {},
   "source": [
    "Now we define our functions"
   ]
  },
  {
   "cell_type": "code",
   "execution_count": 5,
   "metadata": {},
   "outputs": [
    {
     "data": {
      "text/html": [
       "<ol class=list-inline>\n",
       "\t<li>-0.896914546624981</li>\n",
       "\t<li>0.184849184646742</li>\n",
       "\t<li>1.58784533120882</li>\n",
       "</ol>\n"
      ],
      "text/latex": [
       "\\begin{enumerate*}\n",
       "\\item -0.896914546624981\n",
       "\\item 0.184849184646742\n",
       "\\item 1.58784533120882\n",
       "\\end{enumerate*}\n"
      ],
      "text/markdown": [
       "1. -0.896914546624981\n",
       "2. 0.184849184646742\n",
       "3. 1.58784533120882\n",
       "\n",
       "\n"
      ],
      "text/plain": [
       "[1] -0.8969145  0.1848492  1.5878453"
      ]
     },
     "metadata": {},
     "output_type": "display_data"
    }
   ],
   "source": [
    "# intialize your weights randomly\n",
    "set.seed(2)\n",
    "w <- rnorm(3)                              # w is a 1x3 vector\n",
    "w"
   ]
  },
  {
   "cell_type": "code",
   "execution_count": 6,
   "metadata": {},
   "outputs": [],
   "source": [
    "# define hypothesis function\n",
    "h <- function(x1, x2, weights) { \n",
    "    x_new <- rbind(1.0, x1, x2)            # x_new is a 3x1 vector\n",
    "    \n",
    "    if (weights %*% x_new > 0)            # 1x3 * 3x1 = 1x1. The %*% is for matrix multiplication\n",
    "        1\n",
    "    else\n",
    "        -1\n",
    "    }"
   ]
  },
  {
   "cell_type": "code",
   "execution_count": 7,
   "metadata": {},
   "outputs": [],
   "source": [
    "# Perceptron Learning Algorithm \n",
    "PLA <- function(x1, x2, y, weights){\n",
    "    if (h(x1, x2, weights) != y)              # if the hypothesis function for a given species doesnt match correctly\n",
    "        return(weights + (y * c(1.0, x1, x2)))  \n",
    "    \n",
    "    else (h(x1, x2, weights) == y)\n",
    "        return(weights + (-y * c(1.0, x1, x2)))\n",
    "}"
   ]
  },
  {
   "cell_type": "code",
   "execution_count": 8,
   "metadata": {},
   "outputs": [
    {
     "data": {
      "text/html": [
       "<ol class=list-inline>\n",
       "\t<li>-0.896914546624981</li>\n",
       "\t<li>-1.11515081535324</li>\n",
       "\t<li>-1.31215466879117</li>\n",
       "</ol>\n"
      ],
      "text/latex": [
       "\\begin{enumerate*}\n",
       "\\item -0.896914546624981\n",
       "\\item -1.11515081535324\n",
       "\\item -1.31215466879117\n",
       "\\end{enumerate*}\n"
      ],
      "text/markdown": [
       "1. -0.896914546624981\n",
       "2. -1.11515081535324\n",
       "3. -1.31215466879117\n",
       "\n",
       "\n"
      ],
      "text/plain": [
       "[1] -0.8969145 -1.1151508 -1.3121547"
      ]
     },
     "metadata": {},
     "output_type": "display_data"
    }
   ],
   "source": [
    "# Iterate the PLA 1000 times for testing\n",
    "\n",
    "for (i in 1:10500)\n",
    "{\n",
    "    j <- sample(1:100,1)\n",
    "    w <- PLA(X1[j], X2[j], Y[j], w)\n",
    "}\n",
    "w"
   ]
  },
  {
   "cell_type": "code",
   "execution_count": 9,
   "metadata": {},
   "outputs": [],
   "source": [
    "# new weights as a line\n",
    "x <- 1:5\n",
    "w_vect <- w[2]*x/w[3]+ w[1]/w[3]"
   ]
  },
  {
   "cell_type": "code",
   "execution_count": 10,
   "metadata": {},
   "outputs": [
    {
     "data": {
      "image/png": "[encoded data removed]",
      "text/plain": [
       "plot without title"
      ]
     },
     "metadata": {},
     "output_type": "display_data"
    }
   ],
   "source": [
    "#plot the new weights\n",
    "\n",
    "plot(w_vect,\n",
    "     type = \"l\",\n",
    "     xlab = \"SepalWidth\",\n",
    "     ylab = \"PetalLength\")\n",
    "\n",
    "# This will assign a specific color for Setosa species\n",
    "points(PetalLength ~ SepalWidth,\n",
    "      data = data,\n",
    "      subset = Species == \"setosa\",\n",
    "      col = \"red\",\n",
    "      pch = 20)\n",
    "\n",
    "# This will assign a specific color for versicolor species\n",
    "points(PetalLength ~ SepalWidth,\n",
    "      data = data,\n",
    "      subset = Species == \"versicolor\",\n",
    "      col = \"blue\",\n",
    "      pch = 20)\n",
    "\n",
    "\n",
    "legend(\"topright\", c(\"Setosa\",\"Versicolor\",\"Weights\"), fill = c(\"red\",\"blue\",\"black\"))"
   ]
  },
  {
   "cell_type": "code",
   "execution_count": 11,
   "metadata": {},
   "outputs": [],
   "source": [
    "# Predict the species\n",
    "predict <- function(w, k){                       # k_th row in the 1:100 dataset of setosa and versicolor\n",
    "    if (h(X1[k],X2[k],w) == 1)\n",
    "        \"Setosa\"\n",
    "    else\n",
    "        \"Versicolor\"\n",
    "}"
   ]
  },
  {
   "cell_type": "code",
   "execution_count": 12,
   "metadata": {},
   "outputs": [
    {
     "data": {
      "text/html": [
       "'Versicolor'"
      ],
      "text/latex": [
       "'Versicolor'"
      ],
      "text/markdown": [
       "'Versicolor'"
      ],
      "text/plain": [
       "[1] \"Versicolor\""
      ]
     },
     "metadata": {},
     "output_type": "display_data"
    }
   ],
   "source": [
    "predict(w,51)"
   ]
  }
 ],
 "metadata": {
  "kernelspec": {
   "display_name": "R",
   "language": "R",
   "name": "ir"
  },
  "language_info": {
   "codemirror_mode": "r",
   "file_extension": ".r",
   "mimetype": "text/x-r-source",
   "name": "R",
   "pygments_lexer": "r",
   "version": "3.5.1"
  }
 },
 "nbformat": 4,
 "nbformat_minor": 2
}
