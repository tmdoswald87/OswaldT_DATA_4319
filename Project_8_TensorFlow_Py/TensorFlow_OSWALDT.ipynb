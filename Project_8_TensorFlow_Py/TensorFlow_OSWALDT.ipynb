{
 "cells": [
  {
   "cell_type": "markdown",
   "metadata": {},
   "source": [
    "## TensorFlow Exercise in Python\n",
    "\n",
    "### By Thomas Oswald\n",
    "\n",
    "#### Srping 2020, Data 4319"
   ]
  },
  {
   "cell_type": "markdown",
   "metadata": {},
   "source": [
    "TensorFlow is a free and open-source library for dataflow and differentiable programming across a range of tasks. In this notebook, a machine learning exercise is being performed on the MNIST fashion data set."
   ]
  },
  {
   "cell_type": "code",
   "execution_count": 2,
   "metadata": {},
   "outputs": [],
   "source": [
    "import numpy as np\n",
    "import pandas as pd\n",
    "import tensorflow as tf\n",
    "from tensorflow import keras\n",
    "import matplotlib.pyplot as plt"
   ]
  },
  {
   "cell_type": "code",
   "execution_count": 17,
   "metadata": {},
   "outputs": [],
   "source": [
    "fashion_mnist = keras.datasets.fashion_mnist\n",
    "(X_train_full, Y_train_full), (X_test, Y_test) = fashion_mnist.load_data()\n",
    "\n",
    "X_valid = X_train_full[:5000]/255.0\n",
    "X_train = X_train_full[5000:]/255.0\n",
    "\n",
    "Y_valid = Y_train_full[:5000]\n",
    "Y_train = Y_train_full[5000:]\n"
   ]
  },
  {
   "cell_type": "markdown",
   "metadata": {},
   "source": [
    "### Image of the first item without a normalized scale"
   ]
  },
  {
   "cell_type": "code",
   "execution_count": 20,
   "metadata": {},
   "outputs": [
    {
     "data": {
      "text/plain": [
       "<matplotlib.colorbar.Colorbar at 0x1f40321a978>"
      ]
     },
     "execution_count": 20,
     "metadata": {},
     "output_type": "execute_result"
    },
    {
     "data": {
      "image/png": "[encoded data removed]",
      "text/plain": [
       "<Figure size 432x288 with 2 Axes>"
      ]
     },
     "metadata": {
      "needs_background": "light"
     },
     "output_type": "display_data"
    }
   ],
   "source": [
    "plt.imshow(X_train_full[0], cmap = \"Greys\")\n",
    "plt.colorbar()"
   ]
  },
  {
   "cell_type": "markdown",
   "metadata": {},
   "source": [
    "### Image of the first item with a normalized scale"
   ]
  },
  {
   "cell_type": "code",
   "execution_count": 23,
   "metadata": {},
   "outputs": [
    {
     "data": {
      "text/plain": [
       "<matplotlib.colorbar.Colorbar at 0x1f403371710>"
      ]
     },
     "execution_count": 23,
     "metadata": {},
     "output_type": "execute_result"
    },
    {
     "data": {
      "image/png": "[encoded data removed]",
      "text/plain": [
       "<Figure size 432x288 with 2 Axes>"
      ]
     },
     "metadata": {
      "needs_background": "light"
     },
     "output_type": "display_data"
    }
   ],
   "source": [
    "plt.imshow(X_valid[0], cmap = \"Greys\")\n",
    "plt.colorbar()"
   ]
  },
  {
   "cell_type": "code",
   "execution_count": 26,
   "metadata": {},
   "outputs": [],
   "source": [
    "class_name = ['T-Shirt/top',\n",
    "             'Trouser',\n",
    "             'Pullover',\n",
    "             'Dress',\n",
    "             'Coat',\n",
    "             'Sandal',\n",
    "             'Shirt',\n",
    "             'Sneaker',\n",
    "             'Bag',\n",
    "             'Ankle Boot']\n",
    "\n",
    "model = keras.models.Sequential([\n",
    "    keras.layers.Flatten(input_shape = [28,28]),\n",
    "    keras.layers.Dense(300, activation = 'relu'),\n",
    "    keras.layers.Dense(100, activation = 'relu'),\n",
    "    keras.layers.Dense(10, activation = 'softmax')\n",
    "])\n",
    "\n",
    "model.compile(loss = 'sparse_categorical_crossentropy',optimizer = 'sgd',metrics = ['accuracy'])"
   ]
  },
  {
   "cell_type": "code",
   "execution_count": 27,
   "metadata": {},
   "outputs": [
    {
     "name": "stdout",
     "output_type": "stream",
     "text": [
      "Train on 55000 samples, validate on 5000 samples\n",
      "Epoch 1/10\n",
      "55000/55000 [==============================] - 6s 106us/sample - loss: 0.7066 - acc: 0.7686 - val_loss: 0.4971 - val_acc: 0.8300\n",
      "Epoch 2/10\n",
      "55000/55000 [==============================] - 6s 115us/sample - loss: 0.4839 - acc: 0.8331 - val_loss: 0.4778 - val_acc: 0.8388\n",
      "Epoch 3/10\n",
      "55000/55000 [==============================] - 6s 107us/sample - loss: 0.4399 - acc: 0.8470 - val_loss: 0.4241 - val_acc: 0.8520\n",
      "Epoch 4/10\n",
      "55000/55000 [==============================] - 6s 113us/sample - loss: 0.4131 - acc: 0.8553 - val_loss: 0.4219 - val_acc: 0.8492\n",
      "Epoch 5/10\n",
      "55000/55000 [==============================] - 6s 105us/sample - loss: 0.3928 - acc: 0.8623 - val_loss: 0.3780 - val_acc: 0.8702\n",
      "Epoch 6/10\n",
      "55000/55000 [==============================] - 6s 106us/sample - loss: 0.3763 - acc: 0.8679 - val_loss: 0.4016 - val_acc: 0.8588\n",
      "Epoch 7/10\n",
      "55000/55000 [==============================] - 6s 114us/sample - loss: 0.3627 - acc: 0.8725 - val_loss: 0.3561 - val_acc: 0.8752\n",
      "Epoch 8/10\n",
      "55000/55000 [==============================] - 6s 109us/sample - loss: 0.3505 - acc: 0.8753 - val_loss: 0.3710 - val_acc: 0.8704\n",
      "Epoch 9/10\n",
      "55000/55000 [==============================] - 6s 109us/sample - loss: 0.3407 - acc: 0.8799 - val_loss: 0.3460 - val_acc: 0.8768\n",
      "Epoch 10/10\n",
      "55000/55000 [==============================] - 6s 112us/sample - loss: 0.3313 - acc: 0.8829 - val_loss: 0.3354 - val_acc: 0.8850\n"
     ]
    },
    {
     "data": {
      "text/plain": [
       "<tensorflow.python.keras.callbacks.History at 0x1f4033c20b8>"
      ]
     },
     "execution_count": 27,
     "metadata": {},
     "output_type": "execute_result"
    }
   ],
   "source": [
    "model.fit(X_train, Y_train, epochs=10, batch_size = 32, validation_data = (X_valid, Y_valid))"
   ]
  },
  {
   "cell_type": "markdown",
   "metadata": {},
   "source": [
    "### DataFrame of the model History"
   ]
  },
  {
   "cell_type": "code",
   "execution_count": 29,
   "metadata": {},
   "outputs": [
    {
     "data": {
      "text/html": [
       "<div>\n",
       "<style scoped>\n",
       "    .dataframe tbody tr th:only-of-type {\n",
       "        vertical-align: middle;\n",
       "    }\n",
       "\n",
       "    .dataframe tbody tr th {\n",
       "        vertical-align: top;\n",
       "    }\n",
       "\n",
       "    .dataframe thead th {\n",
       "        text-align: right;\n",
       "    }\n",
       "</style>\n",
       "<table border=\"1\" class=\"dataframe\">\n",
       "  <thead>\n",
       "    <tr style=\"text-align: right;\">\n",
       "      <th></th>\n",
       "      <th>loss</th>\n",
       "      <th>acc</th>\n",
       "      <th>val_loss</th>\n",
       "      <th>val_acc</th>\n",
       "    </tr>\n",
       "  </thead>\n",
       "  <tbody>\n",
       "    <tr>\n",
       "      <th>0</th>\n",
       "      <td>0.706632</td>\n",
       "      <td>0.768582</td>\n",
       "      <td>0.497079</td>\n",
       "      <td>0.8300</td>\n",
       "    </tr>\n",
       "    <tr>\n",
       "      <th>1</th>\n",
       "      <td>0.483909</td>\n",
       "      <td>0.833145</td>\n",
       "      <td>0.477833</td>\n",
       "      <td>0.8388</td>\n",
       "    </tr>\n",
       "    <tr>\n",
       "      <th>2</th>\n",
       "      <td>0.439854</td>\n",
       "      <td>0.847036</td>\n",
       "      <td>0.424136</td>\n",
       "      <td>0.8520</td>\n",
       "    </tr>\n",
       "    <tr>\n",
       "      <th>3</th>\n",
       "      <td>0.413091</td>\n",
       "      <td>0.855291</td>\n",
       "      <td>0.421900</td>\n",
       "      <td>0.8492</td>\n",
       "    </tr>\n",
       "    <tr>\n",
       "      <th>4</th>\n",
       "      <td>0.392770</td>\n",
       "      <td>0.862309</td>\n",
       "      <td>0.378010</td>\n",
       "      <td>0.8702</td>\n",
       "    </tr>\n",
       "    <tr>\n",
       "      <th>5</th>\n",
       "      <td>0.376273</td>\n",
       "      <td>0.867945</td>\n",
       "      <td>0.401603</td>\n",
       "      <td>0.8588</td>\n",
       "    </tr>\n",
       "    <tr>\n",
       "      <th>6</th>\n",
       "      <td>0.362663</td>\n",
       "      <td>0.872491</td>\n",
       "      <td>0.356101</td>\n",
       "      <td>0.8752</td>\n",
       "    </tr>\n",
       "    <tr>\n",
       "      <th>7</th>\n",
       "      <td>0.350509</td>\n",
       "      <td>0.875309</td>\n",
       "      <td>0.370951</td>\n",
       "      <td>0.8704</td>\n",
       "    </tr>\n",
       "    <tr>\n",
       "      <th>8</th>\n",
       "      <td>0.340688</td>\n",
       "      <td>0.879909</td>\n",
       "      <td>0.346011</td>\n",
       "      <td>0.8768</td>\n",
       "    </tr>\n",
       "    <tr>\n",
       "      <th>9</th>\n",
       "      <td>0.331254</td>\n",
       "      <td>0.882945</td>\n",
       "      <td>0.335396</td>\n",
       "      <td>0.8850</td>\n",
       "    </tr>\n",
       "  </tbody>\n",
       "</table>\n",
       "</div>"
      ],
      "text/plain": [
       "       loss       acc  val_loss  val_acc\n",
       "0  0.706632  0.768582  0.497079   0.8300\n",
       "1  0.483909  0.833145  0.477833   0.8388\n",
       "2  0.439854  0.847036  0.424136   0.8520\n",
       "3  0.413091  0.855291  0.421900   0.8492\n",
       "4  0.392770  0.862309  0.378010   0.8702\n",
       "5  0.376273  0.867945  0.401603   0.8588\n",
       "6  0.362663  0.872491  0.356101   0.8752\n",
       "7  0.350509  0.875309  0.370951   0.8704\n",
       "8  0.340688  0.879909  0.346011   0.8768\n",
       "9  0.331254  0.882945  0.335396   0.8850"
      ]
     },
     "execution_count": 29,
     "metadata": {},
     "output_type": "execute_result"
    }
   ],
   "source": [
    "df = pd.DataFrame(model.history.history)\n",
    "df"
   ]
  },
  {
   "cell_type": "code",
   "execution_count": 34,
   "metadata": {},
   "outputs": [
    {
     "data": {
      "text/plain": [
       "<matplotlib.legend.Legend at 0x1f40c554c18>"
      ]
     },
     "execution_count": 34,
     "metadata": {},
     "output_type": "execute_result"
    },
    {
     "data": {
      "image/png": "[encoded data removed]",
      "text/plain": [
       "<Figure size 720x720 with 1 Axes>"
      ]
     },
     "metadata": {
      "needs_background": "light"
     },
     "output_type": "display_data"
    }
   ],
   "source": [
    "df.plot(figsize=(10,10))\n",
    "\n",
    "plt.title(\"Fashion_MNIST with TensorFLow\")\n",
    "plt.xlabel('Epochs')\n",
    "plt.ylabel('Percent')\n",
    "plt.legend()"
   ]
  }
 ],
 "metadata": {
  "kernelspec": {
   "display_name": "Python 3",
   "language": "python",
   "name": "python3"
  },
  "language_info": {
   "codemirror_mode": {
    "name": "ipython",
    "version": 3
   },
   "file_extension": ".py",
   "mimetype": "text/x-python",
   "name": "python",
   "nbconvert_exporter": "python",
   "pygments_lexer": "ipython3",
   "version": "3.6.5"
  }
 },
 "nbformat": 4,
 "nbformat_minor": 2
}
