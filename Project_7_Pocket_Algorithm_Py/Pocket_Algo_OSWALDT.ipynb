{
 "cells": [
  {
   "cell_type": "markdown",
   "metadata": {},
   "source": [
    "## Pocket Perceptron in Python\n",
    "\n",
    "### By Thomas Oswald\n",
    "\n",
    "#### Spring 2020, DATA 4319"
   ]
  },
  {
   "cell_type": "markdown",
   "metadata": {},
   "source": [
    "The Pocket Algorithm is a perceptron learning algorithm with a memory which keeps the result of the iteration.  In this notebook, I will create the pocket algorithm and implement it on the iris dataset."
   ]
  },
  {
   "cell_type": "code",
   "execution_count": 1,
   "metadata": {},
   "outputs": [],
   "source": [
    "import pandas as pd\n",
    "import numpy as np\n",
    "import matplotlib.pyplot as plt\n",
    "import math"
   ]
  },
  {
   "cell_type": "code",
   "execution_count": 2,
   "metadata": {},
   "outputs": [
    {
     "data": {
      "text/html": [
       "<div>\n",
       "<style scoped>\n",
       "    .dataframe tbody tr th:only-of-type {\n",
       "        vertical-align: middle;\n",
       "    }\n",
       "\n",
       "    .dataframe tbody tr th {\n",
       "        vertical-align: top;\n",
       "    }\n",
       "\n",
       "    .dataframe thead th {\n",
       "        text-align: right;\n",
       "    }\n",
       "</style>\n",
       "<table border=\"1\" class=\"dataframe\">\n",
       "  <thead>\n",
       "    <tr style=\"text-align: right;\">\n",
       "      <th></th>\n",
       "      <th>SepalLength</th>\n",
       "      <th>SepalWidth</th>\n",
       "      <th>PetalLength</th>\n",
       "      <th>PetalWidth</th>\n",
       "      <th>Species</th>\n",
       "    </tr>\n",
       "  </thead>\n",
       "  <tbody>\n",
       "    <tr>\n",
       "      <th>0</th>\n",
       "      <td>5.1</td>\n",
       "      <td>3.5</td>\n",
       "      <td>1.4</td>\n",
       "      <td>0.2</td>\n",
       "      <td>setosa</td>\n",
       "    </tr>\n",
       "    <tr>\n",
       "      <th>1</th>\n",
       "      <td>4.9</td>\n",
       "      <td>3.0</td>\n",
       "      <td>1.4</td>\n",
       "      <td>0.2</td>\n",
       "      <td>setosa</td>\n",
       "    </tr>\n",
       "    <tr>\n",
       "      <th>2</th>\n",
       "      <td>4.7</td>\n",
       "      <td>3.2</td>\n",
       "      <td>1.3</td>\n",
       "      <td>0.2</td>\n",
       "      <td>setosa</td>\n",
       "    </tr>\n",
       "    <tr>\n",
       "      <th>3</th>\n",
       "      <td>4.6</td>\n",
       "      <td>3.1</td>\n",
       "      <td>1.5</td>\n",
       "      <td>0.2</td>\n",
       "      <td>setosa</td>\n",
       "    </tr>\n",
       "    <tr>\n",
       "      <th>4</th>\n",
       "      <td>5.0</td>\n",
       "      <td>3.6</td>\n",
       "      <td>1.4</td>\n",
       "      <td>0.2</td>\n",
       "      <td>setosa</td>\n",
       "    </tr>\n",
       "  </tbody>\n",
       "</table>\n",
       "</div>"
      ],
      "text/plain": [
       "   SepalLength  SepalWidth  PetalLength  PetalWidth Species\n",
       "0          5.1         3.5          1.4         0.2  setosa\n",
       "1          4.9         3.0          1.4         0.2  setosa\n",
       "2          4.7         3.2          1.3         0.2  setosa\n",
       "3          4.6         3.1          1.5         0.2  setosa\n",
       "4          5.0         3.6          1.4         0.2  setosa"
      ]
     },
     "execution_count": 2,
     "metadata": {},
     "output_type": "execute_result"
    }
   ],
   "source": [
    "data = pd.read_csv('iris_data.csv')\n",
    "data.head()"
   ]
  },
  {
   "cell_type": "code",
   "execution_count": 3,
   "metadata": {},
   "outputs": [
    {
     "data": {
      "text/plain": [
       "<matplotlib.legend.Legend at 0x263cdba5358>"
      ]
     },
     "execution_count": 3,
     "metadata": {},
     "output_type": "execute_result"
    },
    {
     "data": {
      "image/png": "[encoded data removed]",
      "text/plain": [
       "<Figure size 720x720 with 1 Axes>"
      ]
     },
     "metadata": {
      "needs_background": "light"
     },
     "output_type": "display_data"
    }
   ],
   "source": [
    "# Read in the Iris Dataset csv\n",
    "data = pd.read_csv('iris_data.csv')\n",
    "data = data.loc[data['Species'] != \"setosa\"]\n",
    "Species = data['Species']\n",
    "\n",
    "# Y is the species identifier\n",
    "Y = []\n",
    "for i in Species:\n",
    "    if i == 'versicolor':\n",
    "        Y.append(1)\n",
    "    else:\n",
    "        Y.append(-1)\n",
    "        \n",
    "        \n",
    "data = data.drop(['SepalWidth', 'PetalWidth','Species'], axis = 1)\n",
    "data.insert(2,\"Bias\", np.ones(100))\n",
    "\n",
    "# X are the two measurements from the IRIS dataset\n",
    "X = data.values\n",
    "\n",
    "# These subsets are just for plotting\n",
    "x1 = data.iloc[0:50,0:4].values\n",
    "x2 = data.iloc[50:101,0:4].values\n",
    "\n",
    "# plot\n",
    "fig = plt.figure(figsize=(10,10))\n",
    "\n",
    "plt.scatter(x1[0:50,0],\n",
    "            x1[0:50,1],\n",
    "            color = 'blue',\n",
    "            label = \"versicolor\")\n",
    "\n",
    "plt.scatter(x2[0:50,0],\n",
    "            x2[0:50,1],\n",
    "            color = 'red',\n",
    "            label = \"virginicia\")\n",
    "\n",
    "plt.title(\"IRIS DATASET - PetalLength vs SepalLength\")\n",
    "plt.xlabel('SepalLength')\n",
    "plt.ylabel('PetalLength')\n",
    "plt.legend()"
   ]
  },
  {
   "cell_type": "markdown",
   "metadata": {},
   "source": [
    "### Define Essential Functions"
   ]
  },
  {
   "cell_type": "code",
   "execution_count": 4,
   "metadata": {},
   "outputs": [],
   "source": [
    "def sign(w,x):\n",
    "    if np.dot(np.transpose(w),x) > 0:\n",
    "        return 1\n",
    "    else:\n",
    "        return -1\n",
    "\n",
    "def errors(w):\n",
    "    e = 0\n",
    "    for i in range(len(X)):\n",
    "        if sign(w, X[i].reshape(3,1)) != Y[i]:\n",
    "            e += 1/len(X)\n",
    "        else:\n",
    "            e += 0\n",
    "    return e\n",
    "            \n",
    "def pocket_algo(t):\n",
    "    w = np.random.randn(3)\n",
    "    w_hat = w\n",
    "    for i in range(t):\n",
    "        for j in range(len(X)):\n",
    "            if sign(w, X[j].reshape(3,1)) != Y[j]:\n",
    "                w += Y[j] * X[j]\n",
    "        \n",
    "        if errors(w) < errors(w_hat):\n",
    "            w_hat = w\n",
    "\n",
    "    return w_hat"
   ]
  },
  {
   "cell_type": "code",
   "execution_count": 70,
   "metadata": {},
   "outputs": [
    {
     "data": {
      "text/plain": [
       "array([ 131.44676875, -200.39731975,   97.53431272])"
      ]
     },
     "execution_count": 70,
     "metadata": {},
     "output_type": "execute_result"
    }
   ],
   "source": [
    "W = pocket_algo(500)\n",
    "W"
   ]
  },
  {
   "cell_type": "code",
   "execution_count": 71,
   "metadata": {},
   "outputs": [
    {
     "data": {
      "text/plain": [
       "0.16"
      ]
     },
     "execution_count": 71,
     "metadata": {},
     "output_type": "execute_result"
    }
   ],
   "source": [
    "errors(W)"
   ]
  },
  {
   "cell_type": "markdown",
   "metadata": {},
   "source": [
    "### plotting"
   ]
  },
  {
   "cell_type": "code",
   "execution_count": 72,
   "metadata": {},
   "outputs": [
    {
     "data": {
      "text/plain": [
       "<matplotlib.legend.Legend at 0x263d0047588>"
      ]
     },
     "execution_count": 72,
     "metadata": {},
     "output_type": "execute_result"
    },
    {
     "data": {
      "image/png": "[encoded data removed]",
      "text/plain": [
       "<Figure size 720x720 with 1 Axes>"
      ]
     },
     "metadata": {
      "needs_background": "light"
     },
     "output_type": "display_data"
    }
   ],
   "source": [
    "# plot\n",
    "\n",
    "y_new = -(W[0]/W[1])*X[:,0:2] - (W[2]/W[1])\n",
    "\n",
    "fig = plt.figure(figsize=(10,10))\n",
    "\n",
    "plt.scatter(x1[0:50,0],\n",
    "            x1[0:50,1],\n",
    "            color = 'blue',\n",
    "            label = \"versicolor\")\n",
    "\n",
    "plt.scatter(x2[0:50,0],\n",
    "            x2[0:50,1],\n",
    "            color = 'red',\n",
    "            label = \"virginicia\")\n",
    "\n",
    "plt.plot(X[:,0:2],\n",
    "         y_new,\n",
    "         color = 'black',\n",
    "         label = 'Seperator')\n",
    "\n",
    "plt.title(\"IRIS DATASET - PetalLength vs SepalLength\")\n",
    "plt.xlabel('SepalLength')\n",
    "plt.ylabel('PetalLength')\n",
    "plt.legend()"
   ]
  },
  {
   "cell_type": "markdown",
   "metadata": {},
   "source": [
    "In summary, the Pocket Algorithm uses memory to store weighted values and compare its values with the next iteration of weights. The weighted values with the smaller error percent are the ones that are kept and used for comparing in the next iteration.\n",
    "\n",
    "Due to the mixture of the 2 clusters, the lowest prcet error that i could obtain was 16.6%. If compared to different clusters that we not mixed, a lower error percent could be obtained."
   ]
  }
 ],
 "metadata": {
  "kernelspec": {
   "display_name": "Python 3",
   "language": "python",
   "name": "python3"
  },
  "language_info": {
   "codemirror_mode": {
    "name": "ipython",
    "version": 3
   },
   "file_extension": ".py",
   "mimetype": "text/x-python",
   "name": "python",
   "nbconvert_exporter": "python",
   "pygments_lexer": "ipython3",
   "version": "3.6.5"
  }
 },
 "nbformat": 4,
 "nbformat_minor": 2
}
